{
 "cells": [
  {
   "cell_type": "code",
   "execution_count": 1,
   "metadata": {
    "scrolled": true
   },
   "outputs": [
    {
     "name": "stderr",
     "output_type": "stream",
     "text": [
      "/data/robot_settings.json not found. Loading defaults\n",
      "Failed to initialize character device, will not be able to control gpios (lights, button, smoothiekill, smoothie reset). Only one connection can be made to the gpios at a time. If you need to control gpios, first stop the robot server with systemctl stop opentrons-robot-server. Until you restart the server with systemctl start opentrons-robot-server, you will be unable to control the robot using the Opentrons app.\n",
      "/data/deck_calibration.json not found. Loading defaults\n"
     ]
    }
   ],
   "source": [
    "#from opentrons import protocol_api\n",
    "import opentrons.execute\n",
    "import time\n",
    "import json\n",
    "\n",
    "protocol = opentrons.execute.get_protocol_api('2.13')\n",
    "#尽管我在使用2.14 的机器，2.13的api也是可以的。2.14版本之后似乎禁用了直接使用jupyter 调用\n",
    "protocol.home()"
   ]
  },
  {
   "cell_type": "code",
   "execution_count": 2,
   "metadata": {},
   "outputs": [],
   "source": [
    "with open('./xinglab_pcr96well_semiskirt_280ul.json') as labware_file:\n",
    "    labware_def = json.load(labware_file)\n",
    "    well_plate = protocol.load_labware_from_definition(labware_def,location='2')\n",
    "\n",
    "with open('./xinglab_axygen_96_diytiprack_10ul.json') as labware_file:\n",
    "    labware_def = json.load(labware_file)\n",
    "    tipracks = protocol.load_labware_from_definition(labware_def,location=['1','3'])\n",
    "\n",
    "pipette = protocol.load_instrument('p20_multi_gen2','right',tip_racks=[tipracks])"
   ]
  },
  {
   "cell_type": "code",
   "execution_count": null,
   "metadata": {},
   "outputs": [],
   "source": [
    "pipette.flow_rate.aspirate = 5  \n",
    "pipette.flow_rate.dispense = 5\n",
    "columns = ['3','4','5','6']\n",
    "\n",
    "volumes1 = [8]\n",
    "\n",
    "pipette.pick_up_tip()\n",
    "\n",
    "for col in columns:\n",
    "    for i, volume in enumerate(volumes1):\n",
    "        pipette.aspirate(volume, well_plate.columns_by_name()['1'][0].bottom()) \n",
    "        pipette.dispense(volume, well_plate.columns_by_name()[col][0].bottom())\n",
    "        pipette.move_to(well_plate.columns_by_name()[col][0].bottom(20))\n",
    "        pipette.blow_out()\n",
    "        \n",
    "pipette.drop_tip()\n",
    "        \n",
    "volumes2 = [2]\n",
    "for col in columns:\n",
    "    for i, volume in enumerate(volumes2):\n",
    "        pipette.pick_up_tip()\n",
    "        pipette.aspirate(volume, well_plate.columns_by_name()['12'][0].bottom(-1)) \n",
    "        pipette.dispense(volume, well_plate.columns_by_name()[col][0].bottom())\n",
    "        pipette.mix(10, 8, rate=10)\n",
    "        pipette.move_to(well_plate.columns_by_name()[col][0].bottom(30))\n",
    "        pipette.blow_out()\n",
    "        \n",
    "        pipette.move_to(well_plate.columns_by_name()[col][0].top(20))\n",
    "        time.sleep(3)\n",
    "        \n",
    "        pipette.drop_tip()"
   ]
  }
 ],
 "metadata": {
  "kernelspec": {
   "display_name": "Python 3",
   "language": "python",
   "name": "python3"
  },
  "language_info": {
   "codemirror_mode": {
    "name": "ipython",
    "version": 3
   },
   "file_extension": ".py",
   "mimetype": "text/x-python",
   "name": "python",
   "nbconvert_exporter": "python",
   "pygments_lexer": "ipython3",
   "version": "3.7.1"
  }
 },
 "nbformat": 4,
 "nbformat_minor": 2
}
